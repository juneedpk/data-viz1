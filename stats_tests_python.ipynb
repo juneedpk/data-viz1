{
 "cells": [
  {
   "cell_type": "markdown",
   "metadata": {},
   "source": [
    "## shapiro wilk test\n",
    "\n",
    "\n",
    "Tests wehther the data sample has guassian distribution or not !\n",
    "\n",
    "Assumptions\n",
    "\n",
    "1. observations in each sample are independent and identically distributed (iid).\n",
    "2. Interpretation\n",
    "\n",
    "- HO:THE SAMPLE HAS  GUASSIAN NORMAL DISTRIBUTION.\n",
    "- H1:THE SAMPLE DONT HAVE GUASSAIN / NORMAL DISTRIBUTION."
   ]
  },
  {
   "cell_type": "code",
   "execution_count": 3,
   "metadata": {},
   "outputs": [
    {
     "data": {
      "text/plain": [
       "ShapiroResult(statistic=0.8951009511947632, pvalue=0.19340917468070984)"
      ]
     },
     "execution_count": 3,
     "metadata": {},
     "output_type": "execute_result"
    }
   ],
   "source": [
    "# example of shapiro wilk test\n",
    "from scipy.stats import shapiro\n",
    "\n",
    "data = [0.873,2.817,0.121,-0.945,-0.055,-1.436,0.360,-1.478,-1.637,-1.869]\n",
    "\n",
    "data = shapiro(data)\n",
    "data"
   ]
  },
  {
   "cell_type": "code",
   "execution_count": null,
   "metadata": {},
   "outputs": [],
   "source": []
  }
 ],
 "metadata": {
  "kernelspec": {
   "display_name": "Python 3.8.10 64-bit",
   "language": "python",
   "name": "python3"
  },
  "language_info": {
   "codemirror_mode": {
    "name": "ipython",
    "version": 3
   },
   "file_extension": ".py",
   "mimetype": "text/x-python",
   "name": "python",
   "nbconvert_exporter": "python",
   "pygments_lexer": "ipython3",
   "version": "3.8.10"
  },
  "orig_nbformat": 4,
  "vscode": {
   "interpreter": {
    "hash": "570feb405e2e27c949193ac68f46852414290d515b0ba6e5d90d076ed2284471"
   }
  }
 },
 "nbformat": 4,
 "nbformat_minor": 2
}
